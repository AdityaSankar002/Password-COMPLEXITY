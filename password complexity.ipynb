{
 "cells": [
  {
   "cell_type": "code",
   "execution_count": 8,
   "id": "32a25a75-aa09-466d-ac9b-83ec210bdbfb",
   "metadata": {},
   "outputs": [
    {
     "name": "stdin",
     "output_type": "stream",
     "text": [
      "Enter a password to assess its strength:  Aditya@12343212331\n"
     ]
    },
    {
     "name": "stdout",
     "output_type": "stream",
     "text": [
      "Password is strong!\n"
     ]
    }
   ],
   "source": [
    "import re\n",
    "\n",
    "def assess_password_strength(password):\n",
    "   \n",
    "    min_length = 8\n",
    "    has_uppercase = re.compile(r'[A-Z]')\n",
    "    has_lowercase = re.compile(r'[a-z]')\n",
    "    has_number = re.compile(r'\\d')\n",
    "    has_special_char = re.compile(r'[!@#$%^&*(),.?\":{}|<>]')\n",
    "    \n",
    "    # Check the length\n",
    "    if len(password) < min_length:\n",
    "        return \"Password is too short. It should be at least 8 characters long.\"\n",
    "    \n",
    "    # Check for uppercase letter\n",
    "    if not has_uppercase.search(password):\n",
    "        return \"Password should include at least one uppercase letter.\"\n",
    "    \n",
    "    # Check for lowercase letter\n",
    "    if not has_lowercase.search(password):\n",
    "        return \"Password should include at least one lowercase letter.\"\n",
    "    \n",
    "    # Check for number\n",
    "    if not has_number.search(password):\n",
    "        return \"Password should include at least one number.\"\n",
    "    \n",
    "    # Check for special character\n",
    "    if not has_special_char.search(password):\n",
    "        return \"Password should include at least one special character.\"\n",
    "    \n",
    "    # If all criteria are met\n",
    "    return \"Password is strong!\"\n",
    "\n",
    "# Example usage\n",
    "password = input(\"Enter a password to assess its strength: \")\n",
    "print(assess_password_strength(password))\n"
   ]
  },
  {
   "cell_type": "code",
   "execution_count": null,
   "id": "2174ddd7-2d90-438a-91eb-0cd6ad79fb12",
   "metadata": {},
   "outputs": [],
   "source": []
  }
 ],
 "metadata": {
  "kernelspec": {
   "display_name": "Python 3 (ipykernel)",
   "language": "python",
   "name": "python3"
  },
  "language_info": {
   "codemirror_mode": {
    "name": "ipython",
    "version": 3
   },
   "file_extension": ".py",
   "mimetype": "text/x-python",
   "name": "python",
   "nbconvert_exporter": "python",
   "pygments_lexer": "ipython3",
   "version": "3.11.7"
  }
 },
 "nbformat": 4,
 "nbformat_minor": 5
}
